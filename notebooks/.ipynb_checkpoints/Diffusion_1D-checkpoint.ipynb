{
 "metadata": {
  "name": "",
  "signature": "sha256:2a1ef33e2bfc9e3d4ce54845e00f43948fd73c094648a3cfdddc5f6ffd39be90"
 },
 "nbformat": 3,
 "nbformat_minor": 0,
 "worksheets": []
}